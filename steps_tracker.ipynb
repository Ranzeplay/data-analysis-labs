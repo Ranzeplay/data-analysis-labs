{
 "cells": [
  {
   "metadata": {},
   "cell_type": "markdown",
   "source": "Source: https://www.kaggle.com/datasets/monicahjones/steps-tracker-dataset",
   "id": "d173c72da1732893"
  },
  {
   "metadata": {},
   "cell_type": "markdown",
   "source": "# Data fetching and loading",
   "id": "b984bdaa45bb595"
  },
  {
   "metadata": {},
   "cell_type": "code",
   "source": [
    "import kagglehub\n",
    "import pandas as pd\n",
    "\n",
    "# Download latest version\n",
    "path = kagglehub.dataset_download(\"monicahjones/steps-tracker-dataset\")\n",
    "\n",
    "print(\"Path to dataset files:\", path)"
   ],
   "id": "a3779043ef3fe1b1",
   "outputs": [],
   "execution_count": null
  },
  {
   "metadata": {},
   "cell_type": "code",
   "source": [
    "from kagglehub import KaggleDatasetAdapter\n",
    "from pandas import DataFrame\n",
    "\n",
    "df: DataFrame = kagglehub.dataset_load(\n",
    "    KaggleDatasetAdapter.PANDAS,\n",
    "    \"monicahjones/steps-tracker-dataset\",\n",
    "    \"steps_tracker_dataset.csv\",\n",
    ")\n",
    "\n",
    "df.date = pd.to_datetime(df.date, format=\"%d/%m/%Y\")\n",
    "df = df.sort_values(by=\"date\")\n",
    "df.reset_index(drop=True, inplace=True)\n",
    "\n",
    "df.head(10)"
   ],
   "id": "1f65926b68f0d81b",
   "outputs": [],
   "execution_count": null
  },
  {
   "metadata": {},
   "cell_type": "code",
   "source": "df.describe()",
   "id": "1cdae160e725fdc8",
   "outputs": [],
   "execution_count": null
  },
  {
   "metadata": {},
   "cell_type": "code",
   "source": "df['mood'].unique()",
   "id": "6d030e2713b2c5e6",
   "outputs": [],
   "execution_count": null
  },
  {
   "metadata": {},
   "cell_type": "markdown",
   "source": "# Data preprocessing",
   "id": "9e05d9508f4881a9"
  },
  {
   "metadata": {},
   "cell_type": "code",
   "source": [
    "df = df.groupby(by='date').median(numeric_only=True).reset_index()\n",
    "\n",
    "df.head()"
   ],
   "id": "1c99410a34d6dd7",
   "outputs": [],
   "execution_count": null
  },
  {
   "metadata": {},
   "cell_type": "code",
   "source": "df.describe()",
   "id": "99b289d22ac355b1",
   "outputs": [],
   "execution_count": null
  },
  {
   "metadata": {},
   "cell_type": "markdown",
   "source": "# Data overview",
   "id": "1aebe4d4e804653e"
  },
  {
   "metadata": {},
   "cell_type": "markdown",
   "source": "## Single",
   "id": "92ea30846d4ca7b9"
  },
  {
   "metadata": {},
   "cell_type": "code",
   "source": [
    "import matplotlib.pyplot as plt\n",
    "\n",
    "fig, ax = plt.subplots()\n",
    "\n",
    "ax.set_title('Steps every day')\n",
    "ax.plot(df['date'], df['steps'])\n",
    "plt.show()"
   ],
   "id": "f84f9fdd8f40ef2b",
   "outputs": [],
   "execution_count": null
  },
  {
   "metadata": {},
   "cell_type": "code",
   "source": [
    "_, ax = plt.subplots()\n",
    "\n",
    "ax.set_title('Distance every day')\n",
    "ax.plot(df['date'], df['distance_km'])\n",
    "plt.show()"
   ],
   "id": "1ec6c54f342ebff8",
   "outputs": [],
   "execution_count": null
  },
  {
   "metadata": {},
   "cell_type": "code",
   "source": [
    "_, ax = plt.subplots()\n",
    "\n",
    "ax.set_title('Calories every day')\n",
    "ax.plot(df['date'], df['calories_burned'])\n",
    "plt.show()"
   ],
   "id": "bb3f053eb6189a26",
   "outputs": [],
   "execution_count": null
  },
  {
   "metadata": {},
   "cell_type": "code",
   "source": [
    "_, ax = plt.subplots()\n",
    "\n",
    "ax.set_title('Drink every day')\n",
    "ax.plot(df['date'], df['water_intake_liters'])\n",
    "plt.show()"
   ],
   "id": "8564f2597728da78",
   "outputs": [],
   "execution_count": null
  },
  {
   "metadata": {},
   "cell_type": "markdown",
   "source": "## Correlations",
   "id": "eda9d4e026761f6d"
  },
  {
   "metadata": {},
   "cell_type": "code",
   "source": [
    "_, ax = plt.subplots()\n",
    "\n",
    "print(df['steps'].corr(df['calories_burned']))\n",
    "\n",
    "ax.scatter(df['steps'], df['calories_burned'])\n",
    "plt.show()"
   ],
   "id": "90e78a4005339919",
   "outputs": [],
   "execution_count": null
  },
  {
   "metadata": {},
   "cell_type": "code",
   "source": [
    "_, ax = plt.subplots()\n",
    "\n",
    "ax.scatter(df['steps'], df['distance_km'])\n",
    "plt.show()"
   ],
   "id": "e56c4ecd632327c9",
   "outputs": [],
   "execution_count": null
  },
  {
   "metadata": {},
   "cell_type": "code",
   "source": [
    "_, ax = plt.subplots()\n",
    "\n",
    "print(df['steps'].corr(df['water_intake_liters']))\n",
    "\n",
    "ax.scatter(df['steps'], df['water_intake_liters'])\n",
    "plt.show()"
   ],
   "id": "3333070c59dda3b1",
   "outputs": [],
   "execution_count": null
  },
  {
   "metadata": {},
   "cell_type": "code",
   "source": [
    "_, ax = plt.subplots()\n",
    "\n",
    "print(df['active_minutes'].corr(df['water_intake_liters']))\n",
    "\n",
    "ax.scatter(df['active_minutes'], df['water_intake_liters'])\n",
    "plt.show()"
   ],
   "id": "6ca43a5ba2cb663f",
   "outputs": [],
   "execution_count": null
  },
  {
   "metadata": {},
   "cell_type": "code",
   "source": "df.head()",
   "id": "5dbfa32130652f3e",
   "outputs": [],
   "execution_count": null
  },
  {
   "metadata": {},
   "cell_type": "code",
   "source": "",
   "id": "a291886abfd85039",
   "outputs": [],
   "execution_count": null
  }
 ],
 "metadata": {
  "kernelspec": {
   "display_name": "Python 3",
   "language": "python",
   "name": "python3"
  },
  "language_info": {
   "codemirror_mode": {
    "name": "ipython",
    "version": 2
   },
   "file_extension": ".py",
   "mimetype": "text/x-python",
   "name": "python",
   "nbconvert_exporter": "python",
   "pygments_lexer": "ipython2",
   "version": "2.7.6"
  }
 },
 "nbformat": 4,
 "nbformat_minor": 5
}
