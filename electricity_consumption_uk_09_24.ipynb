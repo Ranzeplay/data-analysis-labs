{
 "cells": [
  {
   "metadata": {},
   "cell_type": "markdown",
   "source": "Source: https://www.kaggle.com/datasets/albertovidalrod/electricity-consumption-uk-20092022/",
   "id": "1427c72c5d3a22d5"
  },
  {
   "metadata": {},
   "cell_type": "markdown",
   "source": "# Fetch dataset",
   "id": "cc074fe3bbb2574b"
  },
  {
   "metadata": {},
   "cell_type": "markdown",
   "source": "## Data fetching and loading",
   "id": "1b0e5bdde0cc6a1d"
  },
  {
   "metadata": {},
   "cell_type": "code",
   "source": [
    "import kagglehub\n",
    "import pandas as pd\n",
    "\n",
    "# Download latest version\n",
    "path = kagglehub.dataset_download(\"albertovidalrod/electricity-consumption-uk-20092022\")\n",
    "\n",
    "print(\"Path to dataset files:\", path)"
   ],
   "id": "5a9c0eff16b1fa73",
   "outputs": [],
   "execution_count": null
  },
  {
   "metadata": {},
   "cell_type": "code",
   "source": [
    "from kagglehub import KaggleDatasetAdapter\n",
    "from pandas import DataFrame\n",
    "\n",
    "df: DataFrame = kagglehub.dataset_load(\n",
    "    KaggleDatasetAdapter.PANDAS,\n",
    "    \"albertovidalrod/electricity-consumption-uk-20092022\",\n",
    "    \"historic_demand_2009_2024.csv\",\n",
    ")\n",
    "\n",
    "df.rename(columns={df.columns[0]: 'index'}, inplace=True)\n",
    "df.settlement_date = pd.to_datetime(df.settlement_date)\n",
    "\n",
    "df.describe()"
   ],
   "id": "83f24376f72d8aa9",
   "outputs": [],
   "execution_count": null
  },
  {
   "metadata": {},
   "cell_type": "code",
   "source": [
    "df.dropna(axis=0)\n",
    "df.describe()"
   ],
   "id": "19ef2c8bfce48228",
   "outputs": [],
   "execution_count": null
  },
  {
   "metadata": {},
   "cell_type": "code",
   "source": "df.head(40)",
   "id": "f01f278f01e46bb6",
   "outputs": [],
   "execution_count": null
  },
  {
   "metadata": {},
   "cell_type": "markdown",
   "source": "## Data count of each year",
   "id": "d63cdcea20ecf611"
  },
  {
   "metadata": {},
   "cell_type": "code",
   "source": [
    "df_year = df.settlement_date\n",
    "year_collected = df_year.groupby(df_year.dt.year)\n",
    "\n",
    "year_collected.describe()"
   ],
   "id": "62f62f7b1da32f8a",
   "outputs": [],
   "execution_count": null
  },
  {
   "metadata": {},
   "cell_type": "code",
   "source": [
    "year_values = year_collected.size()\n",
    "\n",
    "import matplotlib.pyplot as plt\n",
    "\n",
    "fig, ax = plt.subplots()\n",
    "\n",
    "ax.pie(year_values, labels=year_values.index, autopct='%0.2f%%', pctdistance=0.7, labeldistance=1.2)\n"
   ],
   "id": "4901b4836c97954c",
   "outputs": [],
   "execution_count": null
  },
  {
   "metadata": {},
   "cell_type": "code",
   "source": [
    "# year_values.plot.bar()\n",
    "\n",
    "fig, ax = plt.subplots()\n",
    "\n",
    "ax.bar(year_values.index, year_values)"
   ],
   "id": "92cc20ebc4580bb6",
   "outputs": [],
   "execution_count": null
  },
  {
   "metadata": {},
   "cell_type": "markdown",
   "source": "## Demand analysis",
   "id": "a02b2aae7d0d4acb"
  },
  {
   "metadata": {},
   "cell_type": "code",
   "source": [
    "daily_group = df.groupby(df.settlement_date.dt.to_period('D'))\n",
    "daily_group.describe()"
   ],
   "id": "e366218f2e411db0",
   "outputs": [],
   "execution_count": null
  },
  {
   "metadata": {},
   "cell_type": "code",
   "source": "daily_group.nd.describe()",
   "id": "80ffa91252bc7338",
   "outputs": [],
   "execution_count": null
  },
  {
   "metadata": {},
   "cell_type": "code",
   "source": "daily_group.nd.mean().plot()\n",
   "id": "f95da9a8c167145f",
   "outputs": [],
   "execution_count": null
  },
  {
   "metadata": {},
   "cell_type": "code",
   "source": "daily_group.england_wales_demand.mean().plot()",
   "id": "21a2cadcb7a23d87",
   "outputs": [],
   "execution_count": null
  },
  {
   "metadata": {},
   "cell_type": "code",
   "source": "",
   "id": "b1d0a2d6edf286ea",
   "outputs": [],
   "execution_count": null
  }
 ],
 "metadata": {
  "kernelspec": {
   "display_name": "Python 3",
   "language": "python",
   "name": "python3"
  },
  "language_info": {
   "codemirror_mode": {
    "name": "ipython",
    "version": 2
   },
   "file_extension": ".py",
   "mimetype": "text/x-python",
   "name": "python",
   "nbconvert_exporter": "python",
   "pygments_lexer": "ipython2",
   "version": "2.7.6"
  }
 },
 "nbformat": 4,
 "nbformat_minor": 5
}
